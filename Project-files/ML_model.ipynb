{
  "nbformat": 4,
  "nbformat_minor": 0,
  "metadata": {
    "colab": {
      "provenance": []
    },
    "kernelspec": {
      "name": "python3",
      "display_name": "Python 3"
    },
    "language_info": {
      "name": "python"
    }
  },
  "cells": [
    {
      "cell_type": "code",
      "execution_count": 1,
      "metadata": {
        "id": "DblujPLkLI_O"
      },
      "outputs": [],
      "source": [
        "import pandas as pd\n",
        "from sklearn.model_selection import train_test_split\n",
        "from sklearn.linear_model import LinearRegression, Ridge, Lasso\n",
        "from sklearn.ensemble import VotingRegressor\n",
        "from sklearn.metrics import mean_squared_error, r2_score\n",
        "import joblib\n"
      ]
    },
    {
      "cell_type": "code",
      "source": [
        "df_path = '/content/drive/MyDrive/cv/modified_news_share_data.xlsx'\n",
        "df = pd.read_excel(df_path)\n"
      ],
      "metadata": {
        "id": "HnonGLCNekzj"
      },
      "execution_count": 2,
      "outputs": []
    },
    {
      "cell_type": "code",
      "source": [
        "print(df.shape)\n",
        "df.head()"
      ],
      "metadata": {
        "colab": {
          "base_uri": "https://localhost:8080/",
          "height": 759
        },
        "id": "0n_AKFvGe0zp",
        "outputId": "ac42d230-eb8e-4b29-b3cb-20531835b5ba"
      },
      "execution_count": 3,
      "outputs": [
        {
          "output_type": "stream",
          "name": "stdout",
          "text": [
            "(1003, 29)\n"
          ]
        },
        {
          "output_type": "execute_result",
          "data": {
            "text/plain": [
              "   article_id                                              title  \\\n",
              "0     7014291                 It's Time for a YouTube Competitor   \n",
              "1     7014327  The Ultimate Roundup of 2014's Biggest April F...   \n",
              "2     7014304  A Selfie and One Garish Jacket: How the Red So...   \n",
              "3     7031995    African Telecom Proposes More Diverse Emoticons   \n",
              "4     6541359  Google to Launch Improved Android Camera App, ...   \n",
              "\n",
              "                                                text published_date  \\\n",
              "0  It was reported last week that Yahoo is gettin...     2014-03-31   \n",
              "1  April Fools' marks the day when pranking goes ...     2014-04-01   \n",
              "2  The 2013 World Series champion Boston Red Sox ...     2014-04-01   \n",
              "3  Less than a week after Apple pledged to make i...     2014-04-01   \n",
              "4  Android users may soon see a series of new fea...     2014-04-01   \n",
              "\n",
              "   unique_tokens_rate  num_hrefs  num_imgs  num_videos  average_token_length  \\\n",
              "0            0.959501  -0.442917 -0.257743   -0.052813             -0.034452   \n",
              "1            0.191416  -0.508819 -0.493293   -0.298049              0.046973   \n",
              "2            0.424019  -0.245211 -0.493293   -0.298049              0.033781   \n",
              "3           -0.008375  -0.508819 -0.493293   -0.298049              0.684209   \n",
              "4            0.522163  -0.377015  0.448907   -0.298049             -0.381712   \n",
              "\n",
              "   num_keywords  ... title_subjectivity  title_sentiment_polarity  shares  \\\n",
              "0             5  ...               0.25                      0.25    1600   \n",
              "1             7  ...               0.00                      0.00    1500   \n",
              "2             7  ...               0.00                      0.00    1400   \n",
              "3             9  ...               0.00                      0.00    1300   \n",
              "4             7  ...               0.00                      0.00    3000   \n",
              "\n",
              "   article_length  published_day  text_sentiment  title_sentiment  \\\n",
              "0       -0.626876         Monday        0.121354             0.00   \n",
              "1       -0.835055        Tuesday        0.155208             0.00   \n",
              "2       -0.058972        Tuesday        0.196855             0.00   \n",
              "3       -0.484314        Tuesday        0.039671             0.25   \n",
              "4       -0.446818        Tuesday        0.103598             0.00   \n",
              "\n",
              "   text_length  month  day_of_week  \n",
              "0         1037      3            0  \n",
              "1          504      4            1  \n",
              "2         2491      4            1  \n",
              "3         1402      4            1  \n",
              "4         1498      4            1  \n",
              "\n",
              "[5 rows x 29 columns]"
            ],
            "text/html": [
              "\n",
              "  <div id=\"df-559e4ccb-b087-4755-b779-536eecc1c935\" class=\"colab-df-container\">\n",
              "    <div>\n",
              "<style scoped>\n",
              "    .dataframe tbody tr th:only-of-type {\n",
              "        vertical-align: middle;\n",
              "    }\n",
              "\n",
              "    .dataframe tbody tr th {\n",
              "        vertical-align: top;\n",
              "    }\n",
              "\n",
              "    .dataframe thead th {\n",
              "        text-align: right;\n",
              "    }\n",
              "</style>\n",
              "<table border=\"1\" class=\"dataframe\">\n",
              "  <thead>\n",
              "    <tr style=\"text-align: right;\">\n",
              "      <th></th>\n",
              "      <th>article_id</th>\n",
              "      <th>title</th>\n",
              "      <th>text</th>\n",
              "      <th>published_date</th>\n",
              "      <th>unique_tokens_rate</th>\n",
              "      <th>num_hrefs</th>\n",
              "      <th>num_imgs</th>\n",
              "      <th>num_videos</th>\n",
              "      <th>average_token_length</th>\n",
              "      <th>num_keywords</th>\n",
              "      <th>...</th>\n",
              "      <th>title_subjectivity</th>\n",
              "      <th>title_sentiment_polarity</th>\n",
              "      <th>shares</th>\n",
              "      <th>article_length</th>\n",
              "      <th>published_day</th>\n",
              "      <th>text_sentiment</th>\n",
              "      <th>title_sentiment</th>\n",
              "      <th>text_length</th>\n",
              "      <th>month</th>\n",
              "      <th>day_of_week</th>\n",
              "    </tr>\n",
              "  </thead>\n",
              "  <tbody>\n",
              "    <tr>\n",
              "      <th>0</th>\n",
              "      <td>7014291</td>\n",
              "      <td>It's Time for a YouTube Competitor</td>\n",
              "      <td>It was reported last week that Yahoo is gettin...</td>\n",
              "      <td>2014-03-31</td>\n",
              "      <td>0.959501</td>\n",
              "      <td>-0.442917</td>\n",
              "      <td>-0.257743</td>\n",
              "      <td>-0.052813</td>\n",
              "      <td>-0.034452</td>\n",
              "      <td>5</td>\n",
              "      <td>...</td>\n",
              "      <td>0.25</td>\n",
              "      <td>0.25</td>\n",
              "      <td>1600</td>\n",
              "      <td>-0.626876</td>\n",
              "      <td>Monday</td>\n",
              "      <td>0.121354</td>\n",
              "      <td>0.00</td>\n",
              "      <td>1037</td>\n",
              "      <td>3</td>\n",
              "      <td>0</td>\n",
              "    </tr>\n",
              "    <tr>\n",
              "      <th>1</th>\n",
              "      <td>7014327</td>\n",
              "      <td>The Ultimate Roundup of 2014's Biggest April F...</td>\n",
              "      <td>April Fools' marks the day when pranking goes ...</td>\n",
              "      <td>2014-04-01</td>\n",
              "      <td>0.191416</td>\n",
              "      <td>-0.508819</td>\n",
              "      <td>-0.493293</td>\n",
              "      <td>-0.298049</td>\n",
              "      <td>0.046973</td>\n",
              "      <td>7</td>\n",
              "      <td>...</td>\n",
              "      <td>0.00</td>\n",
              "      <td>0.00</td>\n",
              "      <td>1500</td>\n",
              "      <td>-0.835055</td>\n",
              "      <td>Tuesday</td>\n",
              "      <td>0.155208</td>\n",
              "      <td>0.00</td>\n",
              "      <td>504</td>\n",
              "      <td>4</td>\n",
              "      <td>1</td>\n",
              "    </tr>\n",
              "    <tr>\n",
              "      <th>2</th>\n",
              "      <td>7014304</td>\n",
              "      <td>A Selfie and One Garish Jacket: How the Red So...</td>\n",
              "      <td>The 2013 World Series champion Boston Red Sox ...</td>\n",
              "      <td>2014-04-01</td>\n",
              "      <td>0.424019</td>\n",
              "      <td>-0.245211</td>\n",
              "      <td>-0.493293</td>\n",
              "      <td>-0.298049</td>\n",
              "      <td>0.033781</td>\n",
              "      <td>7</td>\n",
              "      <td>...</td>\n",
              "      <td>0.00</td>\n",
              "      <td>0.00</td>\n",
              "      <td>1400</td>\n",
              "      <td>-0.058972</td>\n",
              "      <td>Tuesday</td>\n",
              "      <td>0.196855</td>\n",
              "      <td>0.00</td>\n",
              "      <td>2491</td>\n",
              "      <td>4</td>\n",
              "      <td>1</td>\n",
              "    </tr>\n",
              "    <tr>\n",
              "      <th>3</th>\n",
              "      <td>7031995</td>\n",
              "      <td>African Telecom Proposes More Diverse Emoticons</td>\n",
              "      <td>Less than a week after Apple pledged to make i...</td>\n",
              "      <td>2014-04-01</td>\n",
              "      <td>-0.008375</td>\n",
              "      <td>-0.508819</td>\n",
              "      <td>-0.493293</td>\n",
              "      <td>-0.298049</td>\n",
              "      <td>0.684209</td>\n",
              "      <td>9</td>\n",
              "      <td>...</td>\n",
              "      <td>0.00</td>\n",
              "      <td>0.00</td>\n",
              "      <td>1300</td>\n",
              "      <td>-0.484314</td>\n",
              "      <td>Tuesday</td>\n",
              "      <td>0.039671</td>\n",
              "      <td>0.25</td>\n",
              "      <td>1402</td>\n",
              "      <td>4</td>\n",
              "      <td>1</td>\n",
              "    </tr>\n",
              "    <tr>\n",
              "      <th>4</th>\n",
              "      <td>6541359</td>\n",
              "      <td>Google to Launch Improved Android Camera App, ...</td>\n",
              "      <td>Android users may soon see a series of new fea...</td>\n",
              "      <td>2014-04-01</td>\n",
              "      <td>0.522163</td>\n",
              "      <td>-0.377015</td>\n",
              "      <td>0.448907</td>\n",
              "      <td>-0.298049</td>\n",
              "      <td>-0.381712</td>\n",
              "      <td>7</td>\n",
              "      <td>...</td>\n",
              "      <td>0.00</td>\n",
              "      <td>0.00</td>\n",
              "      <td>3000</td>\n",
              "      <td>-0.446818</td>\n",
              "      <td>Tuesday</td>\n",
              "      <td>0.103598</td>\n",
              "      <td>0.00</td>\n",
              "      <td>1498</td>\n",
              "      <td>4</td>\n",
              "      <td>1</td>\n",
              "    </tr>\n",
              "  </tbody>\n",
              "</table>\n",
              "<p>5 rows × 29 columns</p>\n",
              "</div>\n",
              "    <div class=\"colab-df-buttons\">\n",
              "\n",
              "  <div class=\"colab-df-container\">\n",
              "    <button class=\"colab-df-convert\" onclick=\"convertToInteractive('df-559e4ccb-b087-4755-b779-536eecc1c935')\"\n",
              "            title=\"Convert this dataframe to an interactive table.\"\n",
              "            style=\"display:none;\">\n",
              "\n",
              "  <svg xmlns=\"http://www.w3.org/2000/svg\" height=\"24px\" viewBox=\"0 -960 960 960\">\n",
              "    <path d=\"M120-120v-720h720v720H120Zm60-500h600v-160H180v160Zm220 220h160v-160H400v160Zm0 220h160v-160H400v160ZM180-400h160v-160H180v160Zm440 0h160v-160H620v160ZM180-180h160v-160H180v160Zm440 0h160v-160H620v160Z\"/>\n",
              "  </svg>\n",
              "    </button>\n",
              "\n",
              "  <style>\n",
              "    .colab-df-container {\n",
              "      display:flex;\n",
              "      gap: 12px;\n",
              "    }\n",
              "\n",
              "    .colab-df-convert {\n",
              "      background-color: #E8F0FE;\n",
              "      border: none;\n",
              "      border-radius: 50%;\n",
              "      cursor: pointer;\n",
              "      display: none;\n",
              "      fill: #1967D2;\n",
              "      height: 32px;\n",
              "      padding: 0 0 0 0;\n",
              "      width: 32px;\n",
              "    }\n",
              "\n",
              "    .colab-df-convert:hover {\n",
              "      background-color: #E2EBFA;\n",
              "      box-shadow: 0px 1px 2px rgba(60, 64, 67, 0.3), 0px 1px 3px 1px rgba(60, 64, 67, 0.15);\n",
              "      fill: #174EA6;\n",
              "    }\n",
              "\n",
              "    .colab-df-buttons div {\n",
              "      margin-bottom: 4px;\n",
              "    }\n",
              "\n",
              "    [theme=dark] .colab-df-convert {\n",
              "      background-color: #3B4455;\n",
              "      fill: #D2E3FC;\n",
              "    }\n",
              "\n",
              "    [theme=dark] .colab-df-convert:hover {\n",
              "      background-color: #434B5C;\n",
              "      box-shadow: 0px 1px 3px 1px rgba(0, 0, 0, 0.15);\n",
              "      filter: drop-shadow(0px 1px 2px rgba(0, 0, 0, 0.3));\n",
              "      fill: #FFFFFF;\n",
              "    }\n",
              "  </style>\n",
              "\n",
              "    <script>\n",
              "      const buttonEl =\n",
              "        document.querySelector('#df-559e4ccb-b087-4755-b779-536eecc1c935 button.colab-df-convert');\n",
              "      buttonEl.style.display =\n",
              "        google.colab.kernel.accessAllowed ? 'block' : 'none';\n",
              "\n",
              "      async function convertToInteractive(key) {\n",
              "        const element = document.querySelector('#df-559e4ccb-b087-4755-b779-536eecc1c935');\n",
              "        const dataTable =\n",
              "          await google.colab.kernel.invokeFunction('convertToInteractive',\n",
              "                                                    [key], {});\n",
              "        if (!dataTable) return;\n",
              "\n",
              "        const docLinkHtml = 'Like what you see? Visit the ' +\n",
              "          '<a target=\"_blank\" href=https://colab.research.google.com/notebooks/data_table.ipynb>data table notebook</a>'\n",
              "          + ' to learn more about interactive tables.';\n",
              "        element.innerHTML = '';\n",
              "        dataTable['output_type'] = 'display_data';\n",
              "        await google.colab.output.renderOutput(dataTable, element);\n",
              "        const docLink = document.createElement('div');\n",
              "        docLink.innerHTML = docLinkHtml;\n",
              "        element.appendChild(docLink);\n",
              "      }\n",
              "    </script>\n",
              "  </div>\n",
              "\n",
              "\n",
              "<div id=\"df-c4eab3fd-f722-4dc1-85aa-a52ded39f896\">\n",
              "  <button class=\"colab-df-quickchart\" onclick=\"quickchart('df-c4eab3fd-f722-4dc1-85aa-a52ded39f896')\"\n",
              "            title=\"Suggest charts\"\n",
              "            style=\"display:none;\">\n",
              "\n",
              "<svg xmlns=\"http://www.w3.org/2000/svg\" height=\"24px\"viewBox=\"0 0 24 24\"\n",
              "     width=\"24px\">\n",
              "    <g>\n",
              "        <path d=\"M19 3H5c-1.1 0-2 .9-2 2v14c0 1.1.9 2 2 2h14c1.1 0 2-.9 2-2V5c0-1.1-.9-2-2-2zM9 17H7v-7h2v7zm4 0h-2V7h2v10zm4 0h-2v-4h2v4z\"/>\n",
              "    </g>\n",
              "</svg>\n",
              "  </button>\n",
              "\n",
              "<style>\n",
              "  .colab-df-quickchart {\n",
              "      --bg-color: #E8F0FE;\n",
              "      --fill-color: #1967D2;\n",
              "      --hover-bg-color: #E2EBFA;\n",
              "      --hover-fill-color: #174EA6;\n",
              "      --disabled-fill-color: #AAA;\n",
              "      --disabled-bg-color: #DDD;\n",
              "  }\n",
              "\n",
              "  [theme=dark] .colab-df-quickchart {\n",
              "      --bg-color: #3B4455;\n",
              "      --fill-color: #D2E3FC;\n",
              "      --hover-bg-color: #434B5C;\n",
              "      --hover-fill-color: #FFFFFF;\n",
              "      --disabled-bg-color: #3B4455;\n",
              "      --disabled-fill-color: #666;\n",
              "  }\n",
              "\n",
              "  .colab-df-quickchart {\n",
              "    background-color: var(--bg-color);\n",
              "    border: none;\n",
              "    border-radius: 50%;\n",
              "    cursor: pointer;\n",
              "    display: none;\n",
              "    fill: var(--fill-color);\n",
              "    height: 32px;\n",
              "    padding: 0;\n",
              "    width: 32px;\n",
              "  }\n",
              "\n",
              "  .colab-df-quickchart:hover {\n",
              "    background-color: var(--hover-bg-color);\n",
              "    box-shadow: 0 1px 2px rgba(60, 64, 67, 0.3), 0 1px 3px 1px rgba(60, 64, 67, 0.15);\n",
              "    fill: var(--button-hover-fill-color);\n",
              "  }\n",
              "\n",
              "  .colab-df-quickchart-complete:disabled,\n",
              "  .colab-df-quickchart-complete:disabled:hover {\n",
              "    background-color: var(--disabled-bg-color);\n",
              "    fill: var(--disabled-fill-color);\n",
              "    box-shadow: none;\n",
              "  }\n",
              "\n",
              "  .colab-df-spinner {\n",
              "    border: 2px solid var(--fill-color);\n",
              "    border-color: transparent;\n",
              "    border-bottom-color: var(--fill-color);\n",
              "    animation:\n",
              "      spin 1s steps(1) infinite;\n",
              "  }\n",
              "\n",
              "  @keyframes spin {\n",
              "    0% {\n",
              "      border-color: transparent;\n",
              "      border-bottom-color: var(--fill-color);\n",
              "      border-left-color: var(--fill-color);\n",
              "    }\n",
              "    20% {\n",
              "      border-color: transparent;\n",
              "      border-left-color: var(--fill-color);\n",
              "      border-top-color: var(--fill-color);\n",
              "    }\n",
              "    30% {\n",
              "      border-color: transparent;\n",
              "      border-left-color: var(--fill-color);\n",
              "      border-top-color: var(--fill-color);\n",
              "      border-right-color: var(--fill-color);\n",
              "    }\n",
              "    40% {\n",
              "      border-color: transparent;\n",
              "      border-right-color: var(--fill-color);\n",
              "      border-top-color: var(--fill-color);\n",
              "    }\n",
              "    60% {\n",
              "      border-color: transparent;\n",
              "      border-right-color: var(--fill-color);\n",
              "    }\n",
              "    80% {\n",
              "      border-color: transparent;\n",
              "      border-right-color: var(--fill-color);\n",
              "      border-bottom-color: var(--fill-color);\n",
              "    }\n",
              "    90% {\n",
              "      border-color: transparent;\n",
              "      border-bottom-color: var(--fill-color);\n",
              "    }\n",
              "  }\n",
              "</style>\n",
              "\n",
              "  <script>\n",
              "    async function quickchart(key) {\n",
              "      const quickchartButtonEl =\n",
              "        document.querySelector('#' + key + ' button');\n",
              "      quickchartButtonEl.disabled = true;  // To prevent multiple clicks.\n",
              "      quickchartButtonEl.classList.add('colab-df-spinner');\n",
              "      try {\n",
              "        const charts = await google.colab.kernel.invokeFunction(\n",
              "            'suggestCharts', [key], {});\n",
              "      } catch (error) {\n",
              "        console.error('Error during call to suggestCharts:', error);\n",
              "      }\n",
              "      quickchartButtonEl.classList.remove('colab-df-spinner');\n",
              "      quickchartButtonEl.classList.add('colab-df-quickchart-complete');\n",
              "    }\n",
              "    (() => {\n",
              "      let quickchartButtonEl =\n",
              "        document.querySelector('#df-c4eab3fd-f722-4dc1-85aa-a52ded39f896 button');\n",
              "      quickchartButtonEl.style.display =\n",
              "        google.colab.kernel.accessAllowed ? 'block' : 'none';\n",
              "    })();\n",
              "  </script>\n",
              "</div>\n",
              "\n",
              "    </div>\n",
              "  </div>\n"
            ]
          },
          "metadata": {},
          "execution_count": 3
        }
      ]
    },
    {
      "cell_type": "code",
      "source": [
        "# Dropping 'title' and 'text' columns\n",
        "df = df.drop(['title', 'text', 'data_channel','published_day'], axis=1)\n",
        "\n",
        "# Splitting the dataset into features and target variable\n",
        "X = df.drop('shares', axis=1)\n",
        "y = df['shares']\n",
        "X_train, X_test, y_train, y_test = train_test_split(X, y, test_size=0.2, random_state=42)"
      ],
      "metadata": {
        "id": "Z9GR6cUtf7ii"
      },
      "execution_count": 4,
      "outputs": []
    },
    {
      "cell_type": "code",
      "source": [
        "X_train['published_date'] = pd.to_datetime(X_train['published_date'])\n",
        "X_test['published_date'] = pd.to_datetime(X_test['published_date'])\n"
      ],
      "metadata": {
        "id": "1-gIUxgagp_o"
      },
      "execution_count": 5,
      "outputs": []
    },
    {
      "cell_type": "code",
      "source": [
        "# X_train['year'] = X_train['published_date'].dt.year\n",
        "# X_train['month'] = X_train['published_date'].dt.month\n",
        "# X_train['day'] = X_train['published_date'].dt.day\n",
        "# X_train = X_train.drop('published_date', axis=1)\n",
        "\n",
        "# X_test['year'] = X_test['published_date'].dt.year\n",
        "# X_test['month'] = X_test['published_date'].dt.month\n",
        "# X_test['day'] = X_test['published_date'].dt.day\n",
        "# X_test = X_test.drop('published_date', axis=1)\n"
      ],
      "metadata": {
        "id": "zgmj-LPBgru3"
      },
      "execution_count": 6,
      "outputs": []
    },
    {
      "cell_type": "code",
      "source": [
        "X_train['day_of_week'] = X_train['published_date'].dt.dayofweek\n",
        "X_train['quarter'] = X_train['published_date'].dt.quarter\n",
        "X_test['day_of_week'] = X_test['published_date'].dt.dayofweek\n",
        "X_test['quarter'] = X_test['published_date'].dt.quarter\n"
      ],
      "metadata": {
        "id": "BWfc4Q7coFjB"
      },
      "execution_count": 7,
      "outputs": []
    },
    {
      "cell_type": "code",
      "source": [
        "non_numeric_columns = X_train.select_dtypes(exclude=['number']).columns\n",
        "print(\"Non-numeric columns:\", non_numeric_columns)\n"
      ],
      "metadata": {
        "colab": {
          "base_uri": "https://localhost:8080/"
        },
        "id": "-iqxIXnRogU4",
        "outputId": "16454cab-da39-4b33-8727-51faa7454bb0"
      },
      "execution_count": 8,
      "outputs": [
        {
          "output_type": "stream",
          "name": "stdout",
          "text": [
            "Non-numeric columns: Index(['published_date'], dtype='object')\n"
          ]
        }
      ]
    },
    {
      "cell_type": "code",
      "source": [
        "X_train = X_train.drop(non_numeric_columns, axis=1)\n",
        "X_test = X_test.drop(non_numeric_columns, axis=1)\n"
      ],
      "metadata": {
        "id": "ut66RXDVoevg"
      },
      "execution_count": 9,
      "outputs": []
    },
    {
      "cell_type": "markdown",
      "source": [
        "**Linear Regression**"
      ],
      "metadata": {
        "id": "i8KAgGYflkIp"
      }
    },
    {
      "cell_type": "code",
      "source": [
        "from sklearn.metrics import mean_squared_error, r2_score\n",
        "import numpy as np\n",
        "\n",
        "linear_model = LinearRegression()\n",
        "linear_model.fit(X_train, y_train)\n",
        "\n",
        "\n",
        "y_pred_linear = linear_model.predict(X_test)\n",
        "\n",
        "\n",
        "mse_linear = mean_squared_error(y_test, y_pred_linear)\n",
        "r2_linear = r2_score(y_test, y_pred_linear)\n",
        "\n",
        "\n",
        "rmse_linear = np.sqrt(mse_linear)\n",
        "\n",
        "print(f\"Linear Regression MSE: {mse_linear}\")\n",
        "print(f\"Linear Regression RMSE: {rmse_linear}\")\n",
        "print(f\"Linear Regression R2: {r2_linear}\")\n"
      ],
      "metadata": {
        "colab": {
          "base_uri": "https://localhost:8080/"
        },
        "id": "61j_8GXNgFE5",
        "outputId": "cfeac99f-66ce-4a19-f0b3-2144354ac2cf"
      },
      "execution_count": 10,
      "outputs": [
        {
          "output_type": "stream",
          "name": "stdout",
          "text": [
            "Linear Regression MSE: 2184262540.9190993\n",
            "Linear Regression RMSE: 46736.09462630676\n",
            "Linear Regression R2: -0.0038400935335030084\n"
          ]
        }
      ]
    },
    {
      "cell_type": "markdown",
      "source": [
        "**Ridge regression**"
      ],
      "metadata": {
        "id": "mtHoDLU5lqVJ"
      }
    },
    {
      "cell_type": "code",
      "source": [
        "from sklearn.linear_model import Ridge\n",
        "from sklearn.metrics import mean_squared_error, r2_score\n",
        "import numpy as np\n",
        "\n",
        "ridge_model = Ridge(alpha=1.0)\n",
        "ridge_model.fit(X_train, y_train)\n",
        "\n",
        "y_pred_ridge = ridge_model.predict(X_test)\n",
        "\n",
        "mse_ridge = mean_squared_error(y_test, y_pred_ridge)\n",
        "rmse_ridge = np.sqrt(mse_ridge)\n",
        "r2_ridge = r2_score(y_test, y_pred_ridge)\n",
        "\n",
        "print(f\"Ridge Regression MSE: {mse_ridge}\")\n",
        "print(f\"Ridge Regression RMSE: {rmse_ridge}\")\n",
        "print(f\"Ridge Regression R2: {r2_ridge}\")\n"
      ],
      "metadata": {
        "colab": {
          "base_uri": "https://localhost:8080/"
        },
        "id": "O_ReI5dElt8I",
        "outputId": "68fd55bd-9274-4e73-ceaf-105dd86e3803"
      },
      "execution_count": 12,
      "outputs": [
        {
          "output_type": "stream",
          "name": "stdout",
          "text": [
            "Ridge Regression MSE: 2181260394.8242106\n",
            "Ridge Regression RMSE: 46703.965514977535\n",
            "Ridge Regression R2: -0.0024603717462923225\n"
          ]
        }
      ]
    },
    {
      "cell_type": "markdown",
      "source": [
        "**Lasso Regression**"
      ],
      "metadata": {
        "id": "1AsmN0Jrly9s"
      }
    },
    {
      "cell_type": "code",
      "source": [
        "from sklearn.linear_model import Lasso\n",
        "from sklearn.metrics import mean_squared_error, r2_score\n",
        "import numpy as np\n",
        "\n",
        "lasso_model = Lasso(alpha=1.0)\n",
        "lasso_model.fit(X_train, y_train)\n",
        "\n",
        "\n",
        "y_pred_lasso = lasso_model.predict(X_test)\n",
        "\n",
        "mse_lasso = mean_squared_error(y_test, y_pred_lasso)\n",
        "rmse_lasso = np.sqrt(mse_lasso)\n",
        "r2_lasso = r2_score(y_test, y_pred_lasso)\n",
        "\n",
        "print(f\"Lasso Regression MSE: {mse_lasso}\")\n",
        "print(f\"Lasso Regression RMSE: {rmse_lasso}\")\n",
        "print(f\"Lasso Regression R2: {r2_lasso}\")\n"
      ],
      "metadata": {
        "colab": {
          "base_uri": "https://localhost:8080/"
        },
        "id": "pxsoRkdFlvVA",
        "outputId": "48f57787-da01-4905-e60e-bdabf8e4495a"
      },
      "execution_count": 15,
      "outputs": [
        {
          "output_type": "stream",
          "name": "stdout",
          "text": [
            "Lasso Regression MSE: 2182637009.946576\n",
            "Lasso Regression RMSE: 46718.700858934164\n",
            "Lasso Regression R2: -0.0030930344538684373\n"
          ]
        }
      ]
    },
    {
      "cell_type": "markdown",
      "source": [
        "**Ensemble**"
      ],
      "metadata": {
        "id": "5nQdlI9ml7JU"
      }
    },
    {
      "cell_type": "code",
      "source": [
        "from sklearn.ensemble import VotingRegressor\n",
        "from sklearn.metrics import mean_squared_error, r2_score\n",
        "\n",
        "\n",
        "ridge = Ridge(alpha=1.0)\n",
        "lasso = Lasso(alpha=1.0)\n",
        "\n",
        "voting_regressor = VotingRegressor(estimators=[('ridge', ridge), ('lasso', lasso)])\n",
        "\n",
        "\n",
        "voting_regressor.fit(X_train, y_train)\n",
        "\n",
        "\n",
        "y_pred_voting = voting_regressor.predict(X_test)\n",
        "\n",
        "\n",
        "mse_voting = mean_squared_error(y_test, y_pred_voting)\n",
        "rmse_voting = np.sqrt(mse_voting)\n",
        "r2_voting = r2_score(y_test, y_pred_voting)\n",
        "\n",
        "\n",
        "print(f\"Voting Regressor MSE: {mse_voting}\")\n",
        "print(f\"Voting Regressor RMSE: {rmse_voting}\")\n",
        "print(f\"Voting Regressor R2: {r2_voting}\")\n"
      ],
      "metadata": {
        "colab": {
          "base_uri": "https://localhost:8080/"
        },
        "id": "wwePQmLQl3D5",
        "outputId": "bece023a-85d2-4621-bbde-cec526b52fa5"
      },
      "execution_count": 18,
      "outputs": [
        {
          "output_type": "stream",
          "name": "stdout",
          "text": [
            "Voting Regressor MSE: 2181908667.3477764\n",
            "Voting Regressor RMSE: 46710.90522937632\n",
            "Voting Regressor R2: -0.002758303857703037\n"
          ]
        }
      ]
    }
  ]
}